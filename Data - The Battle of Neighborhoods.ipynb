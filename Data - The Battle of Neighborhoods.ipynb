{
    "nbformat_minor": 1, 
    "cells": [
        {
            "source": "## A description of the data and how it will be used to solve the problem.", 
            "cell_type": "markdown", 
            "metadata": {}
        }, 
        {
            "source": "In this section, I will describe the data used to solve the problem as described previously.\n\nAs noted below in the Further Development Section, it is possible to attempt quite complex and sophisticated scenarios when approaching this problem. However, given the size of the project and for simplicity only the following scenario will be addressed:\n\n1. Query the FourSqaure website for the top sites in Detroit\n\n2. Use the FourSquare API to get supplemental geographical data about the top sites\n\n3. Use the FourSquare API to get top restaurent recommendations closest to each of the top site\n\n4. Use open source Detroit Crime data to provide the user with additional crime data", 
            "cell_type": "markdown", 
            "metadata": {}
        }, 
        {
            "execution_count": null, 
            "cell_type": "code", 
            "metadata": {}, 
            "outputs": [], 
            "source": ""
        }
    ], 
    "metadata": {
        "kernelspec": {
            "display_name": "Python 3.5", 
            "name": "python3", 
            "language": "python"
        }, 
        "language_info": {
            "mimetype": "text/x-python", 
            "nbconvert_exporter": "python", 
            "version": "3.5.5", 
            "name": "python", 
            "file_extension": ".py", 
            "pygments_lexer": "ipython3", 
            "codemirror_mode": {
                "version": 3, 
                "name": "ipython"
            }
        }
    }, 
    "nbformat": 4
}