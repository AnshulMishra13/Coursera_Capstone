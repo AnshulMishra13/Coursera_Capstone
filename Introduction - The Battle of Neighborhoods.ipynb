{
    "nbformat_minor": 1, 
    "cells": [
        {
            "source": "## A description of the problem and a discussion of the background", 
            "cell_type": "markdown", 
            "metadata": {
                "collapsed": true
            }
        }, 
        {
            "source": "As of 2016, Detroit has the fourth highest murder rate among major cities in the United States after St. Louis, Baltimore and New Orleans and the 42nd highest murder rate in the world. The crime rate has decreased over the years, but the city is overridden with economic downturns and high unemployment. This analysis will help local government agencies as well as tourists to identify geographical areas of interests. Government agencies will be able to make informed and focussed decisions to reap out desired outcomes more efficiently. The tourists will be aware of the areas that should be avoided for safe travel and stay. Enterpreneurs can also understand demographics of various areas around city to make better investments for growth and profits. \n\nThere are 100's, maybe even 1000's, of travel sites on the Internet, including FourSquare, that will tell you all about places to go, things to see, restaurants to eat at, bars to drink in, nightclubs to part the night away in and then where to go in the morning to get breakfast and a strong coffee. The problems with these sites is that they are one dimensional. If you want to find out all this information about a city you plan to visit next month, you have to do the hard work. Also, just because a venue is the hottest place to go for a night out does not always mean that the unwitting tourist should just ramble in unprepared. The areas surrounding this new venue might be riddled with crime including muggings, car theft and assault, for example. Approach the venue from any direction other than from the north and you could be putting your life in danger. This is when my idea comes in.\n\nImagine the following scenario:\n\nWhere to eat at a particular time of the day?\n\nWhere to invest for a promising business growth in a new city?\n\nWhich areas are crime prone and require better supervison and monitoring?\n\n#### What do you do ... ?\n\n#### Project Idea\nMy idea for the Capstone Project is to show that when driven by venue and location data from FourSquare, backed up with open source crime data, that it is possible to present the cautious and nervous traveller with a list of attractions to visit supplementd with a graphics showing the occurance of crime in the region of the venue.\n\nA high level approach is as follows:\n\nThe travellers decides on a city location [in this case Detroit]\n\nThe ForeSquare website is scrapped for the top venues in the city\n\nFrom this list of top venues the list is augmented with additional grographical data\n\nUsing this additional geographical data the top nearby restaurents are selects\n\nThe historical crime within a predetermined distance of all venues are obtained\n\nA map is presented to the to the traveller showing the selected venues and crime statistics of the area.\n\nThe future probability of a crime happening near or around the selected top sites is also presented to the user\n\n#### Beneficiaries\n\nThis solution is targeted for informed decision making. The want to see all the main sites of a city that they have never visited before but at the same time, for whatever reaons unknown, they want to be able to do all that they can to make sure that they stay clear of trouble i.e. is it safe to visit this venue and this restaurant at 4:00 pm in the afternoon.\n\nSome examples of envisioned users include:\n\n1. Government Agencies\n\n2. Traveller\n\n3. Enterpreneur\n\n#### There are many data science aspect of this project including:\n\nData Acquisition\n\nData Cleansing\n\nData Analysis\n\nMachine Learning\n\nPrediction\n\nNow that the conference is over the Data Scientist can explore Detroit and feel much safer.", 
            "cell_type": "markdown", 
            "metadata": {}
        }, 
        {
            "source": "## A description of the data and how it will be used to solve the problem.", 
            "cell_type": "markdown", 
            "metadata": {}
        }, 
        {
            "source": "In this section, I will describe the data used to solve the problem as described previously.\n\nAs noted below in the Further Development Section, it is possible to attempt quite complex and sophisticated scenarios when approaching this problem. However, given the size of the project and for simplicity only the following scenario will be addressed:\n\n1. Query the FourSqaure website for the top sites in Detroit\n2. Use the FourSquare API to get supplemental geographical data about the top sites\n3. Use the FourSquare API to get top restaurent recommendations closest to each of the top site\n4. Use open source Detroit Crime data to provide the user with additional crime data", 
            "cell_type": "markdown", 
            "metadata": {}
        }, 
        {
            "execution_count": null, 
            "cell_type": "code", 
            "metadata": {}, 
            "outputs": [], 
            "source": ""
        }
    ], 
    "metadata": {
        "kernelspec": {
            "display_name": "Python 3.5", 
            "name": "python3", 
            "language": "python"
        }, 
        "language_info": {
            "mimetype": "text/x-python", 
            "nbconvert_exporter": "python", 
            "version": "3.5.5", 
            "name": "python", 
            "file_extension": ".py", 
            "pygments_lexer": "ipython3", 
            "codemirror_mode": {
                "version": 3, 
                "name": "ipython"
            }
        }
    }, 
    "nbformat": 4
}